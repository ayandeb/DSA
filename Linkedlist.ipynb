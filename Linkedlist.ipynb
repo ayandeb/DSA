{
 "cells": [
  {
   "cell_type": "markdown",
   "metadata": {},
   "source": [
    "# DSA\n"
   ]
  },
  {
   "cell_type": "markdown",
   "metadata": {},
   "source": [
    "## LinkedList"
   ]
  },
  {
   "cell_type": "markdown",
   "metadata": {},
   "source": []
  },
  {
   "cell_type": "code",
   "execution_count": 113,
   "metadata": {},
   "outputs": [],
   "source": [
    "class Node:\n",
    "\n",
    "    def __init__(self, value):\n",
    "        \n",
    "        self.data = value\n",
    "        self.next = None"
   ]
  },
  {
   "cell_type": "code",
   "execution_count": null,
   "metadata": {},
   "outputs": [],
   "source": [
    "a = Node(2)\n",
    "print(a)\n",
    "print(a.value)\n",
    "print(a.next)"
   ]
  },
  {
   "cell_type": "code",
   "execution_count": null,
   "metadata": {},
   "outputs": [],
   "source": [
    "class Linkedlsit:\n",
    "\n",
    "    def __init__(self):\n",
    "\n",
    "        # Empty Linked List\n",
    "        self.head = None\n",
    "        # no of nodes in the LL\n",
    "        self.n = 0\n",
    "\n",
    "    def __len__(self):\n",
    "        return self.n   \n",
    "    \n",
    "    def insert_head(self,value):\n",
    "        new_node = Node(value)\n",
    "        new_node.next = self.head\n",
    "        self.head = new_node\n",
    "        self.n = self.n +1\n",
    "\n",
    "    def traverse(self):\n",
    "\n",
    "        curr = self.head\n",
    "        while curr != None:\n",
    "            print(curr.data)    \n",
    "            curr = curr.next\n",
    "\n",
    "    \n",
    "    def traverse1(self):\n",
    "\n",
    "        curr = self.head\n",
    "        result = ''\n",
    "        while curr.next != None:\n",
    "            result = result +str(curr.data) + '->'\n",
    "            curr = curr.next\n",
    "        return result\n",
    "    \n",
    "    \n",
    "    def append(self, value):\n",
    "        new_node = Node(value)\n",
    "        \n",
    "        if self.head is None:\n",
    "            self.head = new_node\n",
    "        else:\n",
    "            curr = self.head\n",
    "            while curr.next is not None:\n",
    "                curr = curr.next\n",
    "            curr.next = new_node  \n",
    "        self.n +=1    \n",
    "\n",
    "\n",
    "    \n",
    "    def append_after(self, after_value, value):\n",
    "            if self.head is None:  # Check if list is empty\n",
    "                return \"Cannot append, list is empty\"\n",
    "            \n",
    "            new_node = Node(value)\n",
    "            curr = self.head\n",
    "\n",
    "            while curr is not None:\n",
    "                if curr.data == after_value:\n",
    "                    new_node.next = curr.next\n",
    "                    curr.next = new_node\n",
    "                    self.n += 1  # Increment node count only if insertion happens\n",
    "                    return\n",
    "                curr = curr.next\n",
    "            \n",
    "            return \"Item not found\"  # Return if `after_value` is not in the list\n",
    "    \n",
    "    def del_head(self):\n",
    "        if self.head is None:\n",
    "            print(\"not possible, empty LL\")\n",
    "        else:\n",
    "            self.head = self.head.next \n",
    "            self.n -=1\n",
    "\n",
    "    def pop(self):\n",
    "        if self.head is None:\n",
    "            print(\"not possible, empty LL\")\n",
    "        else:\n",
    "            curr  = self.head    \n",
    "            while curr.next.next!= None:\n",
    "                curr = curr.next\n",
    "            curr.next = None\n",
    "\n",
    "    \n",
    "\n",
    "    def clear(self):\n",
    "        self.head = None\n",
    "        self.n = 0\n"
   ]
  },
  {
   "cell_type": "code",
   "execution_count": 154,
   "metadata": {},
   "outputs": [
    {
     "name": "stdout",
     "output_type": "stream",
     "text": [
      "<__main__.Linkedlsit object at 0x10db1d150>\n",
      "0\n"
     ]
    }
   ],
   "source": [
    "# empty LL\n",
    "L = Linkedlsit()\n",
    "print(L)\n",
    "print(L.n)"
   ]
  },
  {
   "cell_type": "code",
   "execution_count": 155,
   "metadata": {},
   "outputs": [
    {
     "name": "stdout",
     "output_type": "stream",
     "text": [
      "<__main__.Linkedlsit object at 0x10db1d150>\n",
      "1\n",
      "1\n",
      "<__main__.Linkedlsit object at 0x10db1d150>\n",
      "2\n",
      "2\n",
      "<__main__.Linkedlsit object at 0x10db1d150>\n",
      "3\n",
      "3\n"
     ]
    }
   ],
   "source": [
    "L.insert_head(3)\n",
    "print(L)\n",
    "print(L.n)\n",
    "print(len(L))\n",
    "\n",
    "L.insert_head(2)\n",
    "print(L)\n",
    "print(L.n)\n",
    "print(len(L))\n",
    "\n",
    "L.insert_head(1)\n",
    "print(L)\n",
    "print(L.n)\n",
    "print(len(L))\n",
    "\n"
   ]
  },
  {
   "cell_type": "code",
   "execution_count": 151,
   "metadata": {},
   "outputs": [
    {
     "name": "stdout",
     "output_type": "stream",
     "text": [
      "1\n",
      "2\n",
      "3\n"
     ]
    }
   ],
   "source": [
    "L.traverse()"
   ]
  },
  {
   "cell_type": "code",
   "execution_count": null,
   "metadata": {},
   "outputs": [],
   "source": [
    "L.traverse1()"
   ]
  },
  {
   "cell_type": "code",
   "execution_count": null,
   "metadata": {},
   "outputs": [],
   "source": [
    "L.append(4)\n",
    "print(len(L))"
   ]
  },
  {
   "cell_type": "code",
   "execution_count": 125,
   "metadata": {},
   "outputs": [
    {
     "name": "stdout",
     "output_type": "stream",
     "text": [
      "length of LL: 5\n",
      "1\n",
      "2\n",
      "6\n",
      "6\n",
      "3\n"
     ]
    }
   ],
   "source": [
    "L.append_after(2,6)\n",
    "print(\"length of LL:\",len(L))\n",
    "L.traverse()"
   ]
  },
  {
   "cell_type": "code",
   "execution_count": 127,
   "metadata": {},
   "outputs": [
    {
     "name": "stdout",
     "output_type": "stream",
     "text": [
      "length of LL: 5\n",
      "1\n",
      "2\n",
      "6\n",
      "6\n",
      "3\n"
     ]
    }
   ],
   "source": [
    "L.append_after(20,7)\n",
    "print(\"length of LL:\",len(L))\n",
    "L.traverse()"
   ]
  },
  {
   "cell_type": "code",
   "execution_count": 128,
   "metadata": {},
   "outputs": [],
   "source": [
    "L.clear()"
   ]
  },
  {
   "cell_type": "code",
   "execution_count": 130,
   "metadata": {},
   "outputs": [
    {
     "name": "stdout",
     "output_type": "stream",
     "text": [
      "<__main__.Linkedlsit object at 0x107c50610>\n",
      "length of LL: 0\n"
     ]
    }
   ],
   "source": [
    "print(L)\n",
    "print(\"length of LL:\",len(L))"
   ]
  },
  {
   "cell_type": "code",
   "execution_count": 147,
   "metadata": {},
   "outputs": [
    {
     "name": "stdout",
     "output_type": "stream",
     "text": [
      "length of LL: 0\n"
     ]
    }
   ],
   "source": [
    "L.del_head()\n",
    "print(\"length of LL:\",len(L))\n",
    "L.traverse()"
   ]
  },
  {
   "cell_type": "code",
   "execution_count": 159,
   "metadata": {},
   "outputs": [
    {
     "name": "stdout",
     "output_type": "stream",
     "text": [
      "length of LL: 3\n",
      "1\n",
      "2\n",
      "3\n"
     ]
    }
   ],
   "source": [
    "L.pop()\n",
    "print(\"length of LL:\",len(L))\n",
    "L.traverse()"
   ]
  },
  {
   "cell_type": "code",
   "execution_count": null,
   "metadata": {},
   "outputs": [],
   "source": []
  },
  {
   "cell_type": "code",
   "execution_count": null,
   "metadata": {},
   "outputs": [],
   "source": []
  }
 ],
 "metadata": {
  "kernelspec": {
   "display_name": "base",
   "language": "python",
   "name": "python3"
  },
  "language_info": {
   "codemirror_mode": {
    "name": "ipython",
    "version": 3
   },
   "file_extension": ".py",
   "mimetype": "text/x-python",
   "name": "python",
   "nbconvert_exporter": "python",
   "pygments_lexer": "ipython3",
   "version": "3.11.7"
  }
 },
 "nbformat": 4,
 "nbformat_minor": 2
}
