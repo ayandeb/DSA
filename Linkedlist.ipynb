{
 "cells": [
  {
   "cell_type": "markdown",
   "metadata": {},
   "source": [
    "# DSA\n"
   ]
  },
  {
   "cell_type": "markdown",
   "metadata": {},
   "source": [
    "## LinkedList"
   ]
  },
  {
   "cell_type": "markdown",
   "metadata": {},
   "source": []
  },
  {
   "cell_type": "code",
   "execution_count": 1,
   "metadata": {},
   "outputs": [],
   "source": [
    "class Node:\n",
    "\n",
    "    def __init__(self, value):\n",
    "        \n",
    "        self.data = value\n",
    "        self.next = None"
   ]
  },
  {
   "cell_type": "code",
   "execution_count": null,
   "metadata": {},
   "outputs": [],
   "source": [
    "a = Node(2)\n",
    "print(a)\n",
    "print(a.value)\n",
    "print(a.next)"
   ]
  },
  {
   "cell_type": "code",
   "execution_count": 32,
   "metadata": {},
   "outputs": [],
   "source": [
    "class Linkedlist:\n",
    "\n",
    "    def __init__(self):\n",
    "\n",
    "        # Empty Linked List\n",
    "        self.head = None\n",
    "        # no of nodes in the LL\n",
    "        self.n = 0\n",
    "\n",
    "    def __len__(self):\n",
    "        return self.n   \n",
    "    \n",
    "    def insert_head(self,value):\n",
    "        new_node = Node(value)\n",
    "        new_node.next = self.head\n",
    "        self.head = new_node\n",
    "        self.n = self.n +1\n",
    "\n",
    "    def traverse(self):\n",
    "\n",
    "        curr = self.head\n",
    "        while curr != None:\n",
    "            print(curr.data)    \n",
    "            curr = curr.next\n",
    "\n",
    "    \n",
    "    def traverse1(self):\n",
    "\n",
    "        curr = self.head\n",
    "        result = ''\n",
    "        while curr.next != None:\n",
    "            result = result +str(curr.data) + '->'\n",
    "            curr = curr.next\n",
    "        return result\n",
    "    \n",
    "    \n",
    "    def append(self, value):\n",
    "        new_node = Node(value)\n",
    "        \n",
    "        if self.head is None:\n",
    "            self.head = new_node\n",
    "        else:\n",
    "            curr = self.head\n",
    "            while curr.next is not None:\n",
    "                curr = curr.next\n",
    "            curr.next = new_node  \n",
    "        self.n +=1    \n",
    "\n",
    "\n",
    "    \n",
    "    def append_after(self, after_value, value):\n",
    "            if self.head is None:  # Check if list is empty\n",
    "                return \"Cannot append, list is empty\"\n",
    "            \n",
    "            new_node = Node(value)\n",
    "            curr = self.head\n",
    "\n",
    "            while curr is not None:\n",
    "                if curr.data == after_value:\n",
    "                    new_node.next = curr.next\n",
    "                    curr.next = new_node\n",
    "                    self.n += 1  # Increment node count only if insertion happens\n",
    "                    return\n",
    "                curr = curr.next\n",
    "            \n",
    "            return \"Item not found\"  # Return if `after_value` is not in the list\n",
    "    \n",
    "    def del_head(self):\n",
    "        if self.head is None:\n",
    "            print(\"not possible, empty LL\")\n",
    "        else:\n",
    "            self.head = self.head.next \n",
    "            self.n -=1\n",
    "\n",
    "    def pop(self):\n",
    "        if self.head is None:\n",
    "            print(\"not possible, empty LL\")\n",
    "        else:\n",
    "            curr  = self.head    \n",
    "            while curr.next.next!= None:\n",
    "                curr = curr.next\n",
    "            curr.next = None\n",
    "\n",
    "    \n",
    "    def clear(self):\n",
    "        self.head = None\n",
    "        self.n = 0\n",
    "\n",
    "\n",
    "    def replace_max(self, value):\n",
    "        curr = self.head\n",
    "        if self.head == None:\n",
    "            return \"Emplty LL\"\n",
    "        max = curr\n",
    "        while curr!= None:\n",
    "            if curr.data > max.data:\n",
    "                max = curr\n",
    "            curr = curr.next\n",
    "\n",
    "        max.data = value    \n",
    "\n",
    "    def sum_odd_nodes(self):\n",
    "        sum = 0\n",
    "        pos = 0\n",
    "        curr = self.head\n",
    "        if self.head == None:\n",
    "            return \"Emplty LL\"\n",
    "        \n",
    "        while curr!= None:\n",
    "            if pos%2 != 0:\n",
    "                sum = sum + curr.data\n",
    "            curr = curr.next\n",
    "            pos = pos +1\n",
    "        return sum   \n",
    "\n",
    "    def reverse_ll(self):\n",
    "        prev_node = None\n",
    "        curr_node = self.head\n",
    "        while curr_node!= None:\n",
    "            next_node = curr_node.next\n",
    "            curr_node.next=prev_node\n",
    "            prev_node = curr_node\n",
    "            curr_node = next_node\n",
    "        self.head = prev_node    \n"
   ]
  },
  {
   "cell_type": "code",
   "execution_count": null,
   "metadata": {},
   "outputs": [],
   "source": [
    "# empty LL\n",
    "L = Linkedlist()\n",
    "print(L)\n",
    "print(L.n)"
   ]
  },
  {
   "cell_type": "code",
   "execution_count": null,
   "metadata": {},
   "outputs": [],
   "source": [
    "L.insert_head(3)\n",
    "print(L)\n",
    "print(L.n)\n",
    "print(len(L))\n",
    "\n",
    "L.insert_head(2)\n",
    "print(L)\n",
    "print(L.n)\n",
    "print(len(L))\n",
    "\n",
    "L.insert_head(1)\n",
    "print(L)\n",
    "print(L.n)\n",
    "print(len(L))\n",
    "\n"
   ]
  },
  {
   "cell_type": "code",
   "execution_count": null,
   "metadata": {},
   "outputs": [],
   "source": [
    "L.traverse()\n",
    "\n"
   ]
  },
  {
   "cell_type": "code",
   "execution_count": null,
   "metadata": {},
   "outputs": [],
   "source": [
    "L.traverse1()"
   ]
  },
  {
   "cell_type": "code",
   "execution_count": null,
   "metadata": {},
   "outputs": [],
   "source": [
    "L.append(4)\n",
    "print(len(L))"
   ]
  },
  {
   "cell_type": "code",
   "execution_count": null,
   "metadata": {},
   "outputs": [],
   "source": [
    "L.append_after(2,6)\n",
    "print(\"length of LL:\",len(L))\n",
    "L.traverse()"
   ]
  },
  {
   "cell_type": "code",
   "execution_count": null,
   "metadata": {},
   "outputs": [],
   "source": [
    "L.append_after(20,7)\n",
    "print(\"length of LL:\",len(L))\n",
    "L.traverse()"
   ]
  },
  {
   "cell_type": "code",
   "execution_count": null,
   "metadata": {},
   "outputs": [],
   "source": [
    "L.clear()"
   ]
  },
  {
   "cell_type": "code",
   "execution_count": null,
   "metadata": {},
   "outputs": [],
   "source": [
    "print(L)\n",
    "print(\"length of LL:\",len(L))"
   ]
  },
  {
   "cell_type": "code",
   "execution_count": null,
   "metadata": {},
   "outputs": [],
   "source": [
    "L.del_head()\n",
    "print(\"length of LL:\",len(L))\n",
    "L.traverse()"
   ]
  },
  {
   "cell_type": "code",
   "execution_count": null,
   "metadata": {},
   "outputs": [],
   "source": [
    "L.pop()\n",
    "print(\"length of LL:\",len(L))\n",
    "L.traverse()"
   ]
  },
  {
   "cell_type": "code",
   "execution_count": null,
   "metadata": {},
   "outputs": [],
   "source": [
    "L.replace_max(5)\n",
    "L.traverse()"
   ]
  },
  {
   "cell_type": "code",
   "execution_count": null,
   "metadata": {},
   "outputs": [],
   "source": [
    "l = [3,4,7,5,8]\n",
    "\n",
    "temp = l[0]\n",
    "for i in range(len(l)-1):\n",
    "    if temp<l[i+1]:\n",
    "        temp = l[i+1]\n",
    "    elif temp >=l[i+1]:\n",
    "        temp = l[i]\n",
    "print(\"max value:\", temp)   \n",
    "\n",
    "for i in range(len(l)):\n",
    "    if l[i] == temp:\n",
    "        break\n",
    "print(\"index\",i)\n",
    "value = 30\n",
    "l[i] = value\n",
    "print(l)\n"
   ]
  },
  {
   "cell_type": "code",
   "execution_count": 33,
   "metadata": {},
   "outputs": [
    {
     "name": "stdout",
     "output_type": "stream",
     "text": [
      "<__main__.Linkedlist object at 0x1082bd410>\n",
      "0\n",
      "3\n",
      "4\n",
      "8\n",
      "5\n",
      "7\n"
     ]
    }
   ],
   "source": [
    "# empty LL\n",
    "L = Linkedlist()\n",
    "print(L)\n",
    "print(L.n)\n",
    "\n",
    "L.insert_head(7)\n",
    "L.insert_head(5)\n",
    "L.insert_head(8)\n",
    "L.insert_head(4)\n",
    "L.insert_head(3)\n",
    "L.traverse()"
   ]
  },
  {
   "cell_type": "code",
   "execution_count": null,
   "metadata": {},
   "outputs": [
    {
     "name": "stdout",
     "output_type": "stream",
     "text": [
      "3\n",
      "4\n",
      "30\n",
      "5\n",
      "7\n"
     ]
    }
   ],
   "source": [
    "L.replace_max(30)\n",
    "L.traverse()"
   ]
  },
  {
   "cell_type": "code",
   "execution_count": 16,
   "metadata": {},
   "outputs": [
    {
     "data": {
      "text/plain": [
       "9"
      ]
     },
     "execution_count": 16,
     "metadata": {},
     "output_type": "execute_result"
    }
   ],
   "source": [
    "L.sum_odd_nodes()"
   ]
  },
  {
   "cell_type": "code",
   "execution_count": 34,
   "metadata": {},
   "outputs": [
    {
     "name": "stdout",
     "output_type": "stream",
     "text": [
      "3\n",
      "4\n",
      "8\n",
      "5\n",
      "7\n",
      "7\n",
      "5\n",
      "8\n",
      "4\n",
      "3\n"
     ]
    }
   ],
   "source": [
    "L.traverse()\n",
    "L.reverse_ll()\n",
    "L.traverse()"
   ]
  },
  {
   "cell_type": "code",
   "execution_count": null,
   "metadata": {},
   "outputs": [],
   "source": []
  },
  {
   "cell_type": "code",
   "execution_count": null,
   "metadata": {},
   "outputs": [],
   "source": []
  }
 ],
 "metadata": {
  "kernelspec": {
   "display_name": "base",
   "language": "python",
   "name": "python3"
  },
  "language_info": {
   "codemirror_mode": {
    "name": "ipython",
    "version": 3
   },
   "file_extension": ".py",
   "mimetype": "text/x-python",
   "name": "python",
   "nbconvert_exporter": "python",
   "pygments_lexer": "ipython3",
   "version": "3.11.7"
  }
 },
 "nbformat": 4,
 "nbformat_minor": 2
}
