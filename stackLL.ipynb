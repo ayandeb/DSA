{
 "cells": [
  {
   "cell_type": "markdown",
   "metadata": {},
   "source": [
    "# Stack"
   ]
  },
  {
   "cell_type": "markdown",
   "metadata": {},
   "source": []
  },
  {
   "cell_type": "code",
   "execution_count": 36,
   "metadata": {},
   "outputs": [],
   "source": [
    "class Node:\n",
    "    def __init__(self,value):\n",
    "        self.data = value\n",
    "        self.next = None"
   ]
  },
  {
   "cell_type": "code",
   "execution_count": 66,
   "metadata": {},
   "outputs": [],
   "source": [
    "class Stack:\n",
    "    def __init__(self):\n",
    "        self.top = None\n",
    "\n",
    "    def is_empty(self):\n",
    "        return self.top==None  \n",
    "\n",
    "    def push(self,value):\n",
    "        new_node = Node(value)\n",
    "        new_node.next = self.top\n",
    "        self.top = new_node\n",
    "\n",
    "    def traverse(self):\n",
    "        curr = self.top\n",
    "        while curr!=None:\n",
    "            dataa = curr.data\n",
    "            print(dataa)\n",
    "            curr = curr.next   \n",
    "\n",
    "    def peek(self):\n",
    "        if self.is_empty()==True:\n",
    "            return \"Empty Stack\"\n",
    "        else:\n",
    "            return self.top.data         \n",
    "\n",
    "    def pop(self):\n",
    "        if self.is_empty()==True:\n",
    "            return \"Empty Stack\"   \n",
    "        else:\n",
    "            data = self.top.data\n",
    "            self.top =  self.top.next\n",
    "            return data"
   ]
  },
  {
   "cell_type": "code",
   "execution_count": 42,
   "metadata": {},
   "outputs": [
    {
     "data": {
      "text/plain": [
       "True"
      ]
     },
     "execution_count": 42,
     "metadata": {},
     "output_type": "execute_result"
    }
   ],
   "source": [
    "s = Stack()\n",
    "s.is_empty()"
   ]
  },
  {
   "cell_type": "code",
   "execution_count": 43,
   "metadata": {},
   "outputs": [],
   "source": [
    "s.push(4)\n",
    "s.push(3)\n",
    "s.push(2)\n",
    "s.push(1)"
   ]
  },
  {
   "cell_type": "code",
   "execution_count": 44,
   "metadata": {},
   "outputs": [
    {
     "name": "stdout",
     "output_type": "stream",
     "text": [
      "1\n",
      "2\n",
      "3\n",
      "4\n"
     ]
    }
   ],
   "source": [
    "s.traverse()\n"
   ]
  },
  {
   "cell_type": "code",
   "execution_count": 50,
   "metadata": {},
   "outputs": [],
   "source": [
    "s.pop()\n",
    "s.traverse()"
   ]
  },
  {
   "cell_type": "code",
   "execution_count": 52,
   "metadata": {},
   "outputs": [
    {
     "data": {
      "text/plain": [
       "'Empty Stack'"
      ]
     },
     "execution_count": 52,
     "metadata": {},
     "output_type": "execute_result"
    }
   ],
   "source": [
    "s.peek()"
   ]
  },
  {
   "cell_type": "code",
   "execution_count": 65,
   "metadata": {},
   "outputs": [
    {
     "ename": "TypeError",
     "evalue": "can only concatenate str (not \"NoneType\") to str",
     "output_type": "error",
     "traceback": [
      "\u001b[0;31m---------------------------------------------------------------------------\u001b[0m",
      "\u001b[0;31mTypeError\u001b[0m                                 Traceback (most recent call last)",
      "Cell \u001b[0;32mIn[65], line 14\u001b[0m\n\u001b[1;32m     10\u001b[0m     res \u001b[38;5;241m=\u001b[39m res \u001b[38;5;241m+\u001b[39m s\u001b[38;5;241m.\u001b[39mpop()\n\u001b[1;32m     12\u001b[0m   \u001b[38;5;28mprint\u001b[39m(res)\n\u001b[0;32m---> 14\u001b[0m reverse_string(\u001b[38;5;124m\"\u001b[39m\u001b[38;5;124mKolkata\u001b[39m\u001b[38;5;124m\"\u001b[39m)\n",
      "Cell \u001b[0;32mIn[65], line 10\u001b[0m, in \u001b[0;36mreverse_string\u001b[0;34m(string)\u001b[0m\n\u001b[1;32m      7\u001b[0m res \u001b[38;5;241m=\u001b[39m \u001b[38;5;124m\"\u001b[39m\u001b[38;5;124m\"\u001b[39m\n\u001b[1;32m      9\u001b[0m \u001b[38;5;28;01mwhile\u001b[39;00m (\u001b[38;5;129;01mnot\u001b[39;00m s\u001b[38;5;241m.\u001b[39mis_empty()):\n\u001b[0;32m---> 10\u001b[0m   res \u001b[38;5;241m=\u001b[39m res \u001b[38;5;241m+\u001b[39m s\u001b[38;5;241m.\u001b[39mpop()\n\u001b[1;32m     12\u001b[0m \u001b[38;5;28mprint\u001b[39m(res)\n",
      "\u001b[0;31mTypeError\u001b[0m: can only concatenate str (not \"NoneType\") to str"
     ]
    }
   ],
   "source": [
    "def reverse_string(string):\n",
    "  s = Stack()\n",
    "  for i in string:\n",
    "\n",
    "    s.push(i)\n",
    "\n",
    "  res = \"\"\n",
    "\n",
    "  while (not s.is_empty()):\n",
    "    res = res + s.pop()\n",
    "\n",
    "  print(res)\n",
    "\n",
    "reverse_string(\"Kolkata\")"
   ]
  },
  {
   "cell_type": "code",
   "execution_count": 82,
   "metadata": {},
   "outputs": [
    {
     "name": "stdout",
     "output_type": "stream",
     "text": [
      "Hell \n"
     ]
    }
   ],
   "source": [
    "text = \"Hello\"\n",
    "ops = \"uuurr\"\n",
    "u = Stack()\n",
    "r = Stack()\n",
    "for i in text:\n",
    "    u.push(i)\n",
    " \n",
    "for i in ops:\n",
    "    if i ==\"u\":\n",
    "        data_u = u.pop()\n",
    "        r.push(data_u)\n",
    "    elif i==\"r\":\n",
    "        data_r = r.pop()\n",
    "        u.push(data_r)\n",
    "\n",
    "res = \" \"\n",
    "\n",
    "while(not u.is_empty()):\n",
    "    res =  u.pop() + res\n",
    "\n",
    "print(res)    \n"
   ]
  },
  {
   "cell_type": "code",
   "execution_count": null,
   "metadata": {},
   "outputs": [],
   "source": []
  }
 ],
 "metadata": {
  "kernelspec": {
   "display_name": "base",
   "language": "python",
   "name": "python3"
  },
  "language_info": {
   "codemirror_mode": {
    "name": "ipython",
    "version": 3
   },
   "file_extension": ".py",
   "mimetype": "text/x-python",
   "name": "python",
   "nbconvert_exporter": "python",
   "pygments_lexer": "ipython3",
   "version": "3.11.7"
  }
 },
 "nbformat": 4,
 "nbformat_minor": 2
}
